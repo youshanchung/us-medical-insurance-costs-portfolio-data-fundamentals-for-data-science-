{
 "cells": [
  {
   "cell_type": "markdown",
   "metadata": {},
   "source": [
    "# U.S. Medical Insurance Costs"
   ]
  },
  {
   "cell_type": "markdown",
   "metadata": {},
   "source": [
    "Project Objectives:\n",
    "Work locally on your own computer\n",
    "\n",
    "Import a dataset into your program\n",
    "\n",
    "Analyze a dataset by building out functions or class methods\n",
    "\n",
    "Use libraries to assist in your analysis\n",
    "### Optional: Document and organize your findings\n",
    "### Optional: Make predictions about a dataset’s features based on your findings\n",
    "\n",
    "Once all the data from insurance.csv are neatly organized into labeled lists, the analysis can be started. This is where one must plan out what to investigate and how to perform the analysis. There are many aspects of the data that could be looked into. The following operations will be implemented:\n",
    "\n",
    "find average age of the patients\n",
    "\n",
    "return the number of males vs. females counted in the dataset\n",
    "\n",
    "find geographical location of the patients\n",
    "\n",
    "return the average yearly medical charges of the patients\n",
    "\n",
    "creating a dictionary that contains all patient information\n"
   ]
  },
  {
   "cell_type": "markdown",
   "metadata": {},
   "source": [
    "## Below is my note:\n",
    "\n",
    "### Things to check:\n",
    "#### 1. The data is balanced and representative\n",
    "#### 2. Correlation (probably will do this)"
   ]
  },
  {
   "cell_type": "markdown",
   "metadata": {},
   "source": [
    "### The order of things done in the sample file\n",
    "1. Load things into lists, using defs\n",
    "2. Create a class that contain methods that use these lists\n",
    "3. Create an instance of the class, using these lists as arguments\n",
    "4. Creating instances of these methods, using the class instance as the argument (where the reliability of the data is analyzed and observations made)\n",
    "5. Create a dictionary with attributes as keys"
   ]
  },
  {
   "cell_type": "markdown",
   "metadata": {},
   "source": [
    "### Beyond the loading and essential format conversions, I can:\n",
    "1. Check if each attribute contains balanced distribution (can rank the numbers as in the hurricane assignment)\n",
    "\n",
    "2. Check the average BMIs of different age groups\n",
    "3. (advanced but can practice using api) Does the average children number in this dataset resemble the national average?\n",
    "4. (advanced) Do people gain weight as they age no matter they have children or not?"
   ]
  },
  {
   "cell_type": "code",
   "execution_count": 1,
   "metadata": {},
   "outputs": [],
   "source": [
    "#Observe the csv and identified the following attributes to analyze:\n",
    "\"\"\"\n",
    "age,sex,bmi,children,smoker,region,charges\n",
    "\n",
    "\"\"\"\n",
    "#Load files into lists\n",
    "\n",
    "import csv\n",
    "\n",
    "def load_csv(file_name,attribute):\n",
    "    attribute_list=[]\n",
    "    with open(file_name) as file_content:\n",
    "        data=csv.DictReader(file_content)\n",
    "        for item in data:\n",
    "            attribute_list.append(item[attribute])#如 item['ages']\n",
    "    return attribute_list\n",
    "\n",
    "age_list=load_csv('insurance.csv','age')\n",
    "sex_list=load_csv('insurance.csv','sex')\n",
    "bmi_list=load_csv('insurance.csv','bmi')\n",
    "children_list=load_csv('insurance.csv','children')\n",
    "smokers_list=load_csv('insurance.csv','smoker')\n",
    "region_list=load_csv('insurance.csv','region')\n",
    "charges_list=load_csv('insurance.csv','charges')"
   ]
  },
  {
   "cell_type": "code",
   "execution_count": 2,
   "metadata": {},
   "outputs": [],
   "source": [
    "#Create a class for methods that analyze to reference\n",
    "customer_count=len(age_list)\n",
    "\n",
    "class create_attribute_instance:\n",
    "    def __init__(self,age_list,sex_list,bmi_list,children_list,smokers_list,region_list,charges_list):\n",
    "        self.age_list=age_list\n",
    "        self.sex_list=sex_list\n",
    "        self.bmi_list=bmi_list\n",
    "        self.children_list=children_list\n",
    "        self.smokers_list=smokers_list\n",
    "        self.region_list=region_list\n",
    "        self.charges_list=charges_list\n",
    "\n",
    "    #Create functions that analyze\n",
    "    def get_average_age(self):\n",
    "        age_sum=0\n",
    "        for age in age_list:\n",
    "            age_sum+=int(age)\n",
    "        average_age=int(age_sum/customer_count)\n",
    "        return average_age\n",
    "\n",
    "    def get_female_proportion(self):\n",
    "        female_count=0\n",
    "        for item in sex_list:\n",
    "            if item=='female':\n",
    "                female_count+=1\n",
    "        return round((female_count/customer_count),2)\n",
    "    \n",
    "    def get_average_bmi(self):\n",
    "        bmi_sum=0\n",
    "        for bmi in bmi_list:\n",
    "            bmi_sum+=float(bmi)\n",
    "        return round((bmi_sum/customer_count),2)\n",
    "    \n",
    "    def get_average_number_of_children(self):\n",
    "        children_sum=0\n",
    "        for children in children_list:\n",
    "            children_sum+=int(children)\n",
    "        return round((children_sum/customer_count),2)\n",
    "    \n",
    "    def get_smoker_proportion(self):\n",
    "        smoking=0\n",
    "        for person in smokers_list:\n",
    "            if person == 'yes':\n",
    "                smoking+=1\n",
    "        return round((smoking/customer_count),2)\n",
    "    \n",
    "    def get_unique_region(self):\n",
    "        unique_regions=[]\n",
    "        for region in region_list:\n",
    "            if region not in unique_regions:\n",
    "                unique_regions.append(region)\n",
    "        return unique_regions\n",
    "    \n",
    "#5/9 新增 region_distribution    \n",
    "    def region_distribution(self):\n",
    "        region_counts=[]\n",
    "        region_distribution={}\n",
    "        unique_regions=self.get_unique_region()\n",
    "        global region_list\n",
    "        for region in self.get_unique_region():\n",
    "            region_count=region_list.count(region)\n",
    "            region_counts.append(region_count)\n",
    "        region_distribution={key:value for key,value in zip(unique_regions,region_counts)}\n",
    "        return region_distribution\n",
    "    \n",
    "    def get_average_charge(self):\n",
    "        charge_sum=0\n",
    "        for charge in charges_list:\n",
    "            charge_sum+=float(charge)\n",
    "        return int(charge_sum/customer_count)        \n"
   ]
  },
  {
   "cell_type": "code",
   "execution_count": 3,
   "metadata": {},
   "outputs": [
    {
     "name": "stdout",
     "output_type": "stream",
     "text": [
      "average_age_1:39\n",
      "female_proportion_1=0.49\n",
      "average_bmi_1:30.66\n",
      "average_children_1:1.09\n",
      "average_smokers_1:0.2\n",
      "unique_regions_1:['southwest', 'southeast', 'northwest', 'northeast']\n",
      "average_charges_1:13270\n",
      "region_distribution_1:{'southwest': 325, 'southeast': 364, 'northwest': 325, 'northeast': 324}\n"
     ]
    }
   ],
   "source": [
    "#Check if each attribute contains balanced distribution (can rank the numbers as in the hurricane assignment)\n",
    "#In the absence of a dataset of normal distribution, I can only tell if a certain attribute is way too skewed\n",
    "\n",
    "#先產出 class instance\n",
    "\n",
    "attribute_instance_1=create_attribute_instance(age_list,sex_list,bmi_list,children_list,smokers_list,region_list,charges_list)\n",
    "\n",
    "#再產出每個 method 的 instance\n",
    "average_age_1=attribute_instance_1.get_average_age()\n",
    "print(f\"average_age_1:{average_age_1}\")\n",
    "\n",
    "female_proportion_1=attribute_instance_1.get_female_proportion()\n",
    "print(f\"female_proportion_1={female_proportion_1}\")\n",
    "\n",
    "average_bmi_1=attribute_instance_1.get_average_bmi()\n",
    "print(f\"average_bmi_1:{average_bmi_1}\")\n",
    "\n",
    "average_children_1=attribute_instance_1.get_average_number_of_children()\n",
    "print(f\"average_children_1:{average_children_1}\")\n",
    "\n",
    "average_smokers_1=attribute_instance_1.get_smoker_proportion()\n",
    "print(f\"average_smokers_1:{average_smokers_1}\")\n",
    "\n",
    "unique_regions_1=attribute_instance_1.get_unique_region()\n",
    "print(f\"unique_regions_1:{unique_regions_1}\")\n",
    "\n",
    "average_charges_1=attribute_instance_1.get_average_charge()\n",
    "print(f\"average_charges_1:{average_charges_1}\")\n",
    "\n",
    "#以下嘗試呼叫平行的 function\n",
    "region_distribution_1=attribute_instance_1.region_distribution()\n",
    "print(f\"region_distribution_1:{region_distribution_1}\")"
   ]
  },
  {
   "cell_type": "markdown",
   "metadata": {},
   "source": [
    "#### I Googled the US averages and felt that this csv data is not too skewed from the national averages below:\n",
    "\n",
    "women percentage:51.1%\n",
    "\n",
    "age:38 something\n",
    "\n",
    "bmi:26.7\n",
    "\n",
    "childrem:1.94\n",
    "\n",
    "smoker:11.5%\n",
    "\n",
    "insurance: Not applicable, as I'm not familiar with the way insurance is counted in the US. "
   ]
  },
  {
   "cell_type": "code",
   "execution_count": 4,
   "metadata": {},
   "outputs": [],
   "source": [
    "#Can't find groups as simple as \"the US average xxx\" in the us census api collection. The below is just for practicing. \n",
    "# import requests\n",
    "\n",
    "# r=requests.get('https://api.census.gov/data/2020/acs/acs5?get=NAME,B08303_001E,B08303_002E&for=state:*')\n",
    "# r_json=r.json()\n",
    "# print(r_json)\n",
    "# print(type(r_json))\n",
    "\n"
   ]
  },
  {
   "cell_type": "code",
   "execution_count": 36,
   "metadata": {},
   "outputs": [
    {
     "name": "stdout",
     "output_type": "stream",
     "text": [
      "average_bmi of those between 11-20:30.087018072289162\n",
      "average_bmi of those between 21-30:29.773579136690657\n",
      "average_bmi of those between 31-40:30.39986381322956\n",
      "average_bmi of those between 41-50:30.808078291814972\n",
      "average_bmi of those between 51-60:31.449377358490583\n",
      "average_bmi of those over 60:32.44181318681318\n"
     ]
    },
    {
     "data": {
      "text/plain": [
       "30.087018072289162"
      ]
     },
     "execution_count": 36,
     "metadata": {},
     "output_type": "execute_result"
    }
   ],
   "source": [
    "# Find out if BMI increases with age\n",
    "\n",
    "age_as_int_list=[]\n",
    "for age in age_list:\n",
    "    age=int(age)\n",
    "    age_as_int_list.append(age)\n",
    "\n",
    "age_levels=[]#How to make such groupings less arbitrary?\n",
    "for age in age_as_int_list:\n",
    "    if age < 11:\n",
    "        age_level=1\n",
    "    elif 11<= age<=20:\n",
    "        age_level=2\n",
    "    elif 21<= age<=30:\n",
    "        age_level=3\n",
    "    elif 31<= age<=40:\n",
    "        age_level=4        \n",
    "    elif 41<= age<=50:\n",
    "        age_level=5\n",
    "    elif 51<= age<=60:\n",
    "        age_level=6\n",
    "    elif 61<= age<70:\n",
    "        age_level=7\n",
    "    age_levels.append(age_level)\n",
    "\n",
    "bmi_by_age_group=list(zip(age_levels,bmi_list))\n",
    "# print(bmi_by_age_group)\n",
    "        \n",
    "\n",
    "# 計算每組的 bmi\n",
    "def calculate_average_bmi_of_age_group(age_group):\n",
    "    bmi_by_age_group=list(zip(age_levels,bmi_list))\n",
    "    age_group_list=[]\n",
    "    for item in bmi_by_age_group:\n",
    "        if item[0]==age_group:\n",
    "            age_group_list.append(item)\n",
    "    total_bmi=0\n",
    "    for item in age_group_list:\n",
    "        total_bmi+=float(item[1])\n",
    "    return total_bmi/len(age_group_list)\n",
    "     \n",
    "print(f\"average_bmi of those between 11-20:{calculate_average_bmi_of_age_group(2)}\")    \n",
    "print(f\"average_bmi of those between 21-30:{calculate_average_bmi_of_age_group(3)}\")    \n",
    "print(f\"average_bmi of those between 31-40:{calculate_average_bmi_of_age_group(4)}\")\n",
    "print(f\"average_bmi of those between 41-50:{calculate_average_bmi_of_age_group(5)}\")\n",
    "print(f\"average_bmi of those between 51-60:{calculate_average_bmi_of_age_group(6)}\")\n",
    "print(f\"average_bmi of those over 60:{calculate_average_bmi_of_age_group(7)}\")    \n",
    "\n",
    "calculate_average_bmi_of_age_group(2)\n"
   ]
  },
  {
   "cell_type": "markdown",
   "metadata": {},
   "source": [
    "will probably check:\n",
    "if there are missing values\n",
    "Maximum/Minimum (attribute value)"
   ]
  }
 ],
 "metadata": {
  "kernelspec": {
   "display_name": "Python 3 (ipykernel)",
   "language": "python",
   "name": "python3"
  },
  "language_info": {
   "codemirror_mode": {
    "name": "ipython",
    "version": 3
   },
   "file_extension": ".py",
   "mimetype": "text/x-python",
   "name": "python",
   "nbconvert_exporter": "python",
   "pygments_lexer": "ipython3",
   "version": "3.9.13"
  }
 },
 "nbformat": 4,
 "nbformat_minor": 4
}
